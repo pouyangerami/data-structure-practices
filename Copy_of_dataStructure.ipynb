{
  "nbformat": 4,
  "nbformat_minor": 0,
  "metadata": {
    "colab": {
      "provenance": [],
      "authorship_tag": "ABX9TyONOZhVq3HFHT4tUwDKuvxz"
    },
    "kernelspec": {
      "name": "python3",
      "display_name": "Python 3"
    },
    "language_info": {
      "name": "python"
    }
  },
  "cells": [
    {
      "cell_type": "code",
      "execution_count": null,
      "metadata": {
        "id": "_M8YJI0JwF9U"
      },
      "outputs": [],
      "source": [
        "def max(lst):\n",
        "  x=lst[0]\n",
        "  for i in range (1 , len(lst)):\n",
        "    if lst[i]> x :\n",
        "      x= lst[i]\n",
        "  return x"
      ]
    },
    {
      "cell_type": "code",
      "source": [
        "def f(x,y,n):\n",
        "  if x>y:\n",
        "    for i in range (n):\n",
        "      print(i)\n",
        "  else:\n",
        "    for i in range (n):\n",
        "      for j in range (n):\n",
        "        print (i , j)"
      ],
      "metadata": {
        "id": "D2xbsrvXwRSj"
      },
      "execution_count": null,
      "outputs": []
    },
    {
      "cell_type": "code",
      "source": [],
      "metadata": {
        "id": "7jy3DwFY9y0_"
      },
      "execution_count": null,
      "outputs": []
    },
    {
      "cell_type": "code",
      "source": [
        "import matplotlib.pyplot as plt\n",
        "\n",
        "lst = [10,100,1000,10000,100000,1000000]\n",
        "def avg (s):\n",
        "  n = len(s)\n",
        "  A=[0]*n\n",
        "  for j in range (n):\n",
        "    total=0\n",
        "    for i in range(j+1):\n",
        "      total += s[i]\n",
        "    A[j]= total/(j+1)\n",
        "  return A\n",
        "\n",
        "avg_lst = avg(lst)\n",
        "\n",
        "plt.plot(avg_lst)\n",
        "plt.xlabel('index')\n",
        "plt.ylabel('average')\n",
        "plt.title('Average value in list')\n",
        "plt.show()"
      ],
      "metadata": {
        "id": "3lj6CtdKwTJp"
      },
      "execution_count": null,
      "outputs": []
    },
    {
      "cell_type": "code",
      "source": [
        "import matplotlib.pyplot as plt\n",
        "\n",
        "lst = [1,2,3,4,5,6,7,8,9,10]\n",
        "\n",
        "def max (lst):\n",
        "  x = lst [0]\n",
        "  for i in range(1,len(lst)):\n",
        "    if lst[i]>x:\n",
        "      x = lst[i]\n",
        "  return x\n",
        "\n",
        "plt.plot(lst)\n",
        "plt.xlabel('index')\n",
        "plt.ylabel('value')\n",
        "plt.title('max value in list')\n",
        "plt.show()"
      ],
      "metadata": {
        "id": "NPukjnT6wTYK"
      },
      "execution_count": null,
      "outputs": []
    },
    {
      "cell_type": "code",
      "source": [
        "def disjoint(A,B,C):\n",
        "  for a in A:\n",
        "    for b in B:\n",
        "      if a == b:\n",
        "       for c in C:\n",
        "        if a == c:\n",
        "          return False"
      ],
      "metadata": {
        "id": "Eukhbnv6w1SC"
      },
      "execution_count": null,
      "outputs": []
    },
    {
      "cell_type": "code",
      "source": [
        "def disjoint(A , B , C):\n",
        "  for a in A:\n",
        "    for b in B:\n",
        "      for c in C:\n",
        "        if (a ==b == c):\n",
        "          return False\n",
        "    return True"
      ],
      "metadata": {
        "id": "S9zRrMdOw1gH"
      },
      "execution_count": null,
      "outputs": []
    },
    {
      "cell_type": "code",
      "source": [
        "def r(a):\n",
        "  n = len (a)\n",
        "  x = [None]*n\n",
        "  for j in range (n):\n",
        "    x[n-1-j]= a[j]\n",
        "    return x"
      ],
      "metadata": {
        "id": "-TmuenAXw1ir"
      },
      "execution_count": null,
      "outputs": []
    },
    {
      "cell_type": "code",
      "source": [
        "def r(a):\n",
        "  n = len (a)\n",
        "  x = [None]*n\n",
        "  for j in range (n):\n",
        "    x[n-1-j]= a[j]\n",
        "    return x"
      ],
      "metadata": {
        "id": "I4sEr7G2w1lM"
      },
      "execution_count": null,
      "outputs": []
    },
    {
      "cell_type": "code",
      "source": [
        "def r(a):\n",
        "  n = len (a)\n",
        "  for i in range (n//2):\n",
        "    a[i], a[n-1 -i]=a[n-1-i],a[i]\n",
        "  return a"
      ],
      "metadata": {
        "id": "4ScDbxd-w1nm"
      },
      "execution_count": null,
      "outputs": []
    },
    {
      "cell_type": "code",
      "source": [
        "def respost(Lst) :\n",
        "  s = stack((len(Lst)) // 2 )\n",
        "  for e in Lst :\n",
        "    if e == '*' :\n",
        "      t2 = s.pop()\n",
        "      t1 : s.pop()\n",
        "      t = t1 * t2\n",
        "      s.push(t)\n",
        "  else :\n",
        "    s.push(e)\n",
        "  return s.stack[0]"
      ],
      "metadata": {
        "id": "WsPryfn5w1p0"
      },
      "execution_count": null,
      "outputs": []
    },
    {
      "cell_type": "code",
      "source": [
        "def a(n):\n",
        "  for j in range (n):\n",
        "   i = 1\n",
        "   while i <n :\n",
        "\n",
        "      i *2"
      ],
      "metadata": {
        "id": "TNFonRaow1r8"
      },
      "execution_count": null,
      "outputs": []
    },
    {
      "cell_type": "code",
      "source": [
        "def Match_s(str) :\n",
        "  s=stack()\n",
        "  for i in str :\n",
        "    if i in '([{' :\n",
        "      s.push(i)\n",
        "    elif i in ')]}' :\n",
        "      if s.peek() == i :\n",
        "        s.pop()\n",
        "      else :\n",
        "         return False\n",
        "  if s.is_empty() :\n",
        "    return True\n",
        "  else :\n",
        "    return False"
      ],
      "metadata": {
        "id": "E3J1hBt1w1va"
      },
      "execution_count": null,
      "outputs": []
    },
    {
      "cell_type": "code",
      "source": [
        "class node :\n",
        "  def init(self , d):\n",
        "    self.data = d\n",
        "    self.nexte = None"
      ],
      "metadata": {
        "id": "d7WJ9F8KxQI5"
      },
      "execution_count": null,
      "outputs": []
    },
    {
      "cell_type": "code",
      "source": [
        "class Queue:\n",
        "  def init (self , k):\n",
        "    self.k = k\n",
        "    self.queue=[None]*k\n",
        "    self.front= -1\n",
        "    self.rear = -1"
      ],
      "metadata": {
        "id": "hFl7r-XnxQLJ"
      },
      "execution_count": null,
      "outputs": []
    },
    {
      "cell_type": "code",
      "source": [
        "class Linkedlist :\n",
        "  def init(self):\n",
        "    self.head = None"
      ],
      "metadata": {
        "id": "NezdHNs2xQNl"
      },
      "execution_count": null,
      "outputs": []
    },
    {
      "cell_type": "code",
      "source": [
        "class Queue:\n",
        "  def init (self , k):\n",
        "    self.k = k\n",
        "    self.queue=[None]*k\n",
        "    self.front= -1\n",
        "    self.rear = -1"
      ],
      "metadata": {
        "id": "yBpeYpcNxQQJ"
      },
      "execution_count": null,
      "outputs": []
    },
    {
      "cell_type": "code",
      "source": [
        "def display(self) :\n",
        "  t = node()\n",
        "  t = self.head\n",
        "  while (t != None) :\n",
        "    print (t.data , end = ' --> ')\n",
        "    t = t.next\n",
        "    print ('None')"
      ],
      "metadata": {
        "id": "M80VhU8ixQSo"
      },
      "execution_count": null,
      "outputs": []
    },
    {
      "cell_type": "code",
      "source": [
        "def addinstart (self , data) :\n",
        "  n = node (data)\n",
        "  n.next = self.head\n",
        "  self.head = n"
      ],
      "metadata": {
        "id": "ho_zEioIxQUy"
      },
      "execution_count": null,
      "outputs": []
    },
    {
      "cell_type": "code",
      "source": [
        "class Queue:\n",
        "   def disqueue (self):\n",
        "    if self.front == -1:\n",
        "      print('empty')\n",
        "      for i in range (self.front , self.rear+1):\n",
        "        print(self.queue[i])"
      ],
      "metadata": {
        "id": "S5fNqnphxQYT"
      },
      "execution_count": null,
      "outputs": []
    },
    {
      "cell_type": "code",
      "source": [
        "def addinend (self , data) :\n",
        "  n = node(data)\n",
        "  t = self.head\n",
        "  if (t == None):\n",
        "    self.head = n\n",
        "  else :\n",
        "    while (t.next) :\n",
        "      t = t.next\n",
        "    t.next = n"
      ],
      "metadata": {
        "id": "17ip0M6zxjTw"
      },
      "execution_count": null,
      "outputs": []
    },
    {
      "cell_type": "code",
      "source": [
        "def insqueue(self , data):\n",
        "  if (self.rear == -1):\n",
        "    self.front=0\n",
        "    self.rear = 0\n",
        "    self.queue[0]=data\n",
        "    if(self.rear +1 == self.k):\n",
        "      print('is full')\n",
        "      return\n",
        "    else:\n",
        "      self.rear +=1\n",
        "      self.queue[self.rear]= data"
      ],
      "metadata": {
        "id": "-y3btbjRxjWM"
      },
      "execution_count": null,
      "outputs": []
    },
    {
      "cell_type": "code",
      "source": [
        "class Linkedlist :\n",
        "  def init(self) :\n",
        "    self.head = None\n",
        "  def addafter(self,m,d) :\n",
        "    n = node(d)\n",
        "    t = self.head\n",
        "    while (t.data != m) :\n",
        "      t = t.next\n",
        "      t.next = n"
      ],
      "metadata": {
        "id": "IJ7e8pF3xjYe"
      },
      "execution_count": null,
      "outputs": []
    },
    {
      "cell_type": "code",
      "source": [
        "def delfirst(self) :\n",
        "  if(self.head == None) :\n",
        "    return 'empty'\n",
        "  else :\n",
        "    self.head = self.head.next"
      ],
      "metadata": {
        "id": "j0zDm7_bxjaZ"
      },
      "execution_count": null,
      "outputs": []
    },
    {
      "cell_type": "code",
      "source": [
        "def dellast (self) :\n",
        "  if (t== None )\n",
        "  while (t.next.next != None ) :\n",
        "    t = t.next\n",
        "  t.next = None"
      ],
      "metadata": {
        "id": "zymKalqfxrBP"
      },
      "execution_count": null,
      "outputs": []
    },
    {
      "cell_type": "code",
      "source": [
        "def delafter (self , m ):\n",
        "  t = self.head\n",
        "  while (t.data != m) :\n",
        "    t = t.next\n",
        "  t.next = t.nex.next"
      ],
      "metadata": {
        "id": "6rcqooWbxrDf"
      },
      "execution_count": null,
      "outputs": []
    },
    {
      "cell_type": "code",
      "source": [
        "class dnode :\n",
        "  def init(self , data) :\n",
        "    self.data = data\n",
        "    self.next = None\n",
        "    self.prev = None"
      ],
      "metadata": {
        "id": "g-8AJOeJxrGw"
      },
      "execution_count": null,
      "outputs": []
    },
    {
      "cell_type": "code",
      "source": [
        "def delqueue(self):\n",
        "  if (self.front== -1):\n",
        "    print('empty')\n",
        "  elif self.front== self.rear:\n",
        "      t= self.queue[self.front]\n",
        "      self.front= -1\n",
        "      self.rear = -1\n",
        "      return t\n",
        "  else:\n",
        "        t= self.queue[self.front]\n",
        "        self.front= -1\n",
        "        return t"
      ],
      "metadata": {
        "id": "9X_Va9dDxxew"
      },
      "execution_count": null,
      "outputs": []
    },
    {
      "cell_type": "code",
      "source": [
        "class dLinkedlist :\n",
        "  def init (self) :\n",
        "    self.head = None\n",
        "  def display (self):\n",
        "    t =self.head\n",
        "    while (t !=None) :\n",
        "      print (t.data ,' <--> ')\n",
        "      t = t.next\n",
        "    print('None')"
      ],
      "metadata": {
        "id": "r-6uyG8rxxhF"
      },
      "execution_count": null,
      "outputs": []
    },
    {
      "cell_type": "code",
      "source": [
        "def addinstart (self , d) :\n",
        "  n = dnode()\n",
        "  if self.head != None\n",
        "     n.next = self.head\n",
        "     self.head.prev = n\n",
        "  self.head = n"
      ],
      "metadata": {
        "id": "gx09UjT5xxkp"
      },
      "execution_count": null,
      "outputs": []
    },
    {
      "cell_type": "code",
      "source": [
        "def insqueue_c(self , data ,k):\n",
        "  if ((self.rear+1)% k ==self.front):\n",
        "    print ('full')\n",
        "  elif(self.front== -1):\n",
        "      self.front=0\n",
        "      self.rear = 0\n",
        "      self.queue[self.rear]= data\n",
        "  else:\n",
        "      self.rear +=1\n",
        "      self.queue[self.rear]= data"
      ],
      "metadata": {
        "id": "l0P1fVDIx3nE"
      },
      "execution_count": null,
      "outputs": []
    },
    {
      "cell_type": "code",
      "source": [
        "def addinend (self , d) :\n",
        "  n = dnode(d)\n",
        "  if self.head != None :\n",
        "    t = self.head\n",
        "    while (t.next != None) :\n",
        "      t = t.next\n",
        "    t.next = n\n",
        "    n.prev = t\n",
        "  else :\n",
        "    self.head = n"
      ],
      "metadata": {
        "id": "X-HJT1PSx3pd"
      },
      "execution_count": null,
      "outputs": []
    },
    {
      "cell_type": "code",
      "source": [
        "def delqueue_c(self,k):\n",
        "  if (self.front== -1):\n",
        "    print('empty')\n",
        "  elif self.front== self.rear:\n",
        "      t= self.queue[self.front]\n",
        "      self.front= -1\n",
        "      self.rear = -1\n",
        "      return t\n",
        "  else:\n",
        "        t= self.queue[self.front]\n",
        "        self.front= (self.front +1)% k\n",
        "        return t"
      ],
      "metadata": {
        "id": "Ut1VBGRmx3sq"
      },
      "execution_count": null,
      "outputs": []
    },
    {
      "cell_type": "code",
      "source": [
        "class stack():\n",
        "  def init (self,limit =10):\n",
        "    self.stack =[]\n",
        "    self.limit =limit"
      ],
      "metadata": {
        "id": "aZEAFQrvx_tt"
      },
      "execution_count": null,
      "outputs": []
    },
    {
      "cell_type": "code",
      "source": [
        "def delfirst(self) :\n",
        "  if(self.head == None) :\n",
        "    return -1\n",
        "  self.head = self.head.next\n",
        "  self.head.prev.None"
      ],
      "metadata": {
        "id": "bL4HN-Dgx_wF"
      },
      "execution_count": null,
      "outputs": []
    },
    {
      "cell_type": "code",
      "source": [
        "def pop(self):\n",
        "  if len(self.stack)<= 0:\n",
        "    return -1\n",
        "  else:\n",
        "    return self.stack.pop()"
      ],
      "metadata": {
        "id": "edS-Yoa5x_yq"
      },
      "execution_count": null,
      "outputs": []
    },
    {
      "cell_type": "code",
      "source": [
        "def peek(self):\n",
        "  if len (self.stack)<=0:\n",
        "    return -1\n",
        "  else:\n",
        "    return self.stack[len(self.stack)-1]"
      ],
      "metadata": {
        "id": "B43Z9Ihmx_1Q"
      },
      "execution_count": null,
      "outputs": []
    },
    {
      "cell_type": "code",
      "source": [
        "def push(self , data):\n",
        "  if len(self.stack)>= self.limit:\n",
        "    return -1\n",
        "  else:\n",
        "    self.stack.append(data)"
      ],
      "metadata": {
        "id": "OYhPX7UWx_3C"
      },
      "execution_count": null,
      "outputs": []
    },
    {
      "cell_type": "code",
      "source": [
        "def delete (self , data ) :\n",
        "  if self.head == None :\n",
        "    print (\"empty\")\n",
        "    return\n",
        "  if self.head.next = self.head :\n",
        "    if self.head.data == data :\n",
        "      self.head = None\n",
        "      return\n",
        "    return -1\n",
        "  t = self.head\n",
        "  while (t .data != data ) :\n",
        "    p = t\n",
        "    t = t.next\n",
        "    if t == self.head :\n",
        "      return -1\n",
        "  p.next = t.next\n",
        "  t.next = None"
      ],
      "metadata": {
        "id": "CUlnmHaMx_6X"
      },
      "execution_count": null,
      "outputs": []
    },
    {
      "cell_type": "code",
      "source": [
        "def display(self):\n",
        "  if len (self.stack)<=0:\n",
        "    return -1\n",
        "  else:\n",
        "    for i in self.stack:\n",
        "      print(i)"
      ],
      "metadata": {
        "id": "DSX6BFimyPvk"
      },
      "execution_count": null,
      "outputs": []
    },
    {
      "cell_type": "code",
      "source": [
        "class BTnode() :\n",
        "  def init(self , data , left = None , right = None ) :\n",
        "    self.data = data\n",
        "    self.left = left\n",
        "    self.right = right"
      ],
      "metadata": {
        "id": "TEUwegKLyPxz"
      },
      "execution_count": null,
      "outputs": []
    },
    {
      "cell_type": "code",
      "source": [
        "def dec2bin(number):\n",
        "  s = stack()\n",
        "  while number >0:\n",
        "    r = number%2\n",
        "    s.push(r)\n",
        "    number = number//2\n",
        "    b = \"\"\n",
        "  while not s.is_empty():\n",
        "    b = b +str(s.pop())\n",
        "  return b"
      ],
      "metadata": {
        "id": "duAqK7lOyPzz"
      },
      "execution_count": null,
      "outputs": []
    },
    {
      "cell_type": "code",
      "source": [
        "class Btree() :\n",
        "  def init(self , root = None ) :\n",
        "    self.rot = root\n",
        "  def inorder(self , root ) :\n",
        "    if (root == None ) :\n",
        "      return\n",
        "    else :\n",
        "      self.inorder(root.left)\n",
        "      print(root.data)\n",
        "      self.inorder(root.right)"
      ],
      "metadata": {
        "id": "bAAIunrpyUR0"
      },
      "execution_count": null,
      "outputs": []
    },
    {
      "cell_type": "code",
      "source": [
        "def is_empty(self):\n",
        "  if len (self.stack)<=0:\n",
        "    return True\n",
        "  else:\n",
        "    return False"
      ],
      "metadata": {
        "id": "92KazE5XyUUL"
      },
      "execution_count": null,
      "outputs": []
    },
    {
      "cell_type": "code",
      "source": [
        "def reverse(lst):\n",
        "  s=stack()\n",
        "  for e in lst:\n",
        "    s.push(e)\n",
        "  for i in range (len (lst)):\n",
        "    lst[i]= s.pop()"
      ],
      "metadata": {
        "id": "hCX-T1yIyUWg"
      },
      "execution_count": null,
      "outputs": []
    },
    {
      "cell_type": "code",
      "source": [
        "def addafter (self , m , data ) :\n",
        "  if self.head == None\n",
        "     return -1\n",
        "    n = node(data)\n",
        "    t = self.head\n",
        "    while t.data != m:\n",
        "      t = t.next\n",
        "      if t == self.head :\n",
        "        return -1"
      ],
      "metadata": {
        "id": "Nch4-SnByUaB"
      },
      "execution_count": null,
      "outputs": []
    },
    {
      "cell_type": "code",
      "source": [
        "def reverse_stack(s):\n",
        "  s1=stack()\n",
        "  s2 = stack()\n",
        "  while not s.is_empty():\n",
        "    s1.push(s.pop())\n",
        "  while not s1.is_empty():\n",
        "    s2.push(s1.pop())\n",
        "  while not s2.is_empty():\n",
        "    s.push(s2.pop())"
      ],
      "metadata": {
        "id": "Hrzzkixmycka"
      },
      "execution_count": null,
      "outputs": []
    },
    {
      "cell_type": "code",
      "source": [
        "def delmid(self) :\n",
        "  t = self.head\n",
        "  count = 0\n",
        "  while (t!=None):\n",
        "    t = t.next\n",
        "    count += 1\n",
        "  t = self.head\n",
        "if count % 2 == 0 :\n",
        "  for i in range ( count // 2) :\n",
        "    t = t.next\n",
        "else :\n",
        "  for i in range (count //2 +1) :\n",
        "    t = t.next\n",
        "  t.next.prev = t.prev\n",
        "  t.prev.next = t.next\n",
        "  t.next = None\n",
        "  t.prev = None"
      ],
      "metadata": {
        "id": "ykhrEVBSycmz"
      },
      "execution_count": null,
      "outputs": []
    },
    {
      "cell_type": "code",
      "source": [
        "class cLinkedlist :\n",
        "  def init(self) :\n",
        "    self.head = None\n",
        "  def display(self) :\n",
        "    t = self.head\n",
        "    if t is None :\n",
        "      print(\"empty\")\n",
        "      return\n",
        "    while t.next != self.head :\n",
        "      print(t.data , end = ' --> ')\n",
        "      t = t.next\n",
        "    print(t.data)"
      ],
      "metadata": {
        "id": "nXo76eYiyco-"
      },
      "execution_count": null,
      "outputs": []
    },
    {
      "cell_type": "code",
      "source": [],
      "metadata": {
        "id": "jaD34bzZycsc"
      },
      "execution_count": null,
      "outputs": []
    },
    {
      "cell_type": "code",
      "source": [],
      "metadata": {
        "id": "RDP7VDzVyP2V"
      },
      "execution_count": null,
      "outputs": []
    },
    {
      "cell_type": "code",
      "source": [],
      "metadata": {
        "id": "-mYsuyOSxjdw"
      },
      "execution_count": null,
      "outputs": []
    }
  ]
}